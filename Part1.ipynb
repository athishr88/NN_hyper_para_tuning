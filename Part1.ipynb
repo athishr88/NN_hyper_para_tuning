{
 "cells": [
  {
   "cell_type": "markdown",
   "id": "7dafafa1",
   "metadata": {},
   "source": [
    "## Lab Assignment 1: Part 1 code"
   ]
  },
  {
   "cell_type": "code",
   "execution_count": 1,
   "id": "8d66af34",
   "metadata": {},
   "outputs": [],
   "source": [
    "import warnings\n",
    "warnings.filterwarnings('ignore')"
   ]
  },
  {
   "cell_type": "code",
   "execution_count": 2,
   "id": "0c83c811",
   "metadata": {},
   "outputs": [],
   "source": [
    "#Loading data\n",
    "\n",
    "from sklearn.datasets import load_iris\n",
    "diabetes = load_iris()\n",
    "X = diabetes.data\n",
    "y = diabetes.target"
   ]
  },
  {
   "cell_type": "code",
   "execution_count": 3,
   "id": "487cf140",
   "metadata": {},
   "outputs": [
    {
     "data": {
      "text/plain": [
       "(150, 4)"
      ]
     },
     "execution_count": 3,
     "metadata": {},
     "output_type": "execute_result"
    }
   ],
   "source": [
    "X.shape"
   ]
  },
  {
   "cell_type": "code",
   "execution_count": 4,
   "id": "e87f5196",
   "metadata": {},
   "outputs": [
    {
     "name": "stdout",
     "output_type": "stream",
     "text": [
      "[0 1 2]\n"
     ]
    }
   ],
   "source": [
    "# Check for number of output classes in the data\n",
    "import numpy as np\n",
    "print(np.unique(y))"
   ]
  },
  {
   "cell_type": "code",
   "execution_count": 5,
   "id": "8ff3fc42",
   "metadata": {},
   "outputs": [],
   "source": [
    "# 80/20 split\n",
    "\n",
    "from sklearn.model_selection import train_test_split\n",
    "\n",
    "X_train_std, X_test_std, y_train, y_test = train_test_split(X, y, random_state=1, test_size=0.2)"
   ]
  },
  {
   "cell_type": "code",
   "execution_count": 6,
   "id": "d64b2f56",
   "metadata": {},
   "outputs": [],
   "source": [
    "# # Normalizing data\n",
    "# from sklearn.preprocessing import StandardScaler\n",
    "\n",
    "# stdsc = StandardScaler()\n",
    "# stdsc.fit(X_train)\n",
    "# X_train_std = stdsc.transform(X_train)\n",
    "# X_test_std = stdsc.transform(X_test)"
   ]
  },
  {
   "cell_type": "code",
   "execution_count": 7,
   "id": "a3f89552",
   "metadata": {},
   "outputs": [],
   "source": [
    "# Variables\n",
    "activations = ['relu', 'tanh']\n",
    "neurons = [5, 10, 20]\n",
    "num_hidden = [1, 2, 3]"
   ]
  },
  {
   "cell_type": "code",
   "execution_count": 10,
   "id": "18d67439",
   "metadata": {},
   "outputs": [],
   "source": [
    "# Hyperparameters\n",
    "epochs = 5"
   ]
  },
  {
   "cell_type": "markdown",
   "id": "9c23cc82",
   "metadata": {},
   "source": [
    "#### All combinations of different values in activation functions, number of neurons and number of hidden layers provided above are tested in one cell using nested loops"
   ]
  },
  {
   "cell_type": "code",
   "execution_count": 11,
   "id": "382c2bc9",
   "metadata": {},
   "outputs": [
    {
     "name": "stdout",
     "output_type": "stream",
     "text": [
      "Activation Func: relu, Number of Neurons: 5, Number of hidden layers: 1\n",
      "              precision    recall  f1-score   support\n",
      "\n",
      "           0       0.00      0.00      0.00        11\n",
      "           1       0.00      0.00      0.00        13\n",
      "           2       0.32      1.00      0.48         6\n",
      "\n",
      "    accuracy                           0.20        30\n",
      "   macro avg       0.11      0.33      0.16        30\n",
      "weighted avg       0.06      0.20      0.10        30\n",
      "\n"
     ]
    },
    {
     "data": {
      "image/png": "[encoded data removed]",
      "text/plain": [
       "<Figure size 432x288 with 1 Axes>"
      ]
     },
     "metadata": {
      "needs_background": "light"
     },
     "output_type": "display_data"
    },
    {
     "name": "stdout",
     "output_type": "stream",
     "text": [
      "Activation Func: relu, Number of Neurons: 5, Number of hidden layers: 2\n",
      "              precision    recall  f1-score   support\n",
      "\n",
      "           0       0.00      0.00      0.00        11\n",
      "           1       0.00      0.00      0.00        13\n",
      "           2       0.20      1.00      0.33         6\n",
      "\n",
      "    accuracy                           0.20        30\n",
      "   macro avg       0.07      0.33      0.11        30\n",
      "weighted avg       0.04      0.20      0.07        30\n",
      "\n"
     ]
    },
    {
     "data": {
      "image/png": "[encoded data removed]",
      "text/plain": [
       "<Figure size 432x288 with 1 Axes>"
      ]
     },
     "metadata": {
      "needs_background": "light"
     },
     "output_type": "display_data"
    },
    {
     "name": "stdout",
     "output_type": "stream",
     "text": [
      "Activation Func: relu, Number of Neurons: 5, Number of hidden layers: 3\n",
      "              precision    recall  f1-score   support\n",
      "\n",
      "           0       0.00      0.00      0.00        11\n",
      "           1       0.00      0.00      0.00        13\n",
      "           2       0.20      1.00      0.33         6\n",
      "\n",
      "    accuracy                           0.20        30\n",
      "   macro avg       0.07      0.33      0.11        30\n",
      "weighted avg       0.04      0.20      0.07        30\n",
      "\n"
     ]
    },
    {
     "data": {
      "image/png": "[encoded data removed]",
      "text/plain": [
       "<Figure size 432x288 with 1 Axes>"
      ]
     },
     "metadata": {
      "needs_background": "light"
     },
     "output_type": "display_data"
    },
    {
     "name": "stdout",
     "output_type": "stream",
     "text": [
      "Activation Func: relu, Number of Neurons: 10, Number of hidden layers: 1\n",
      "              precision    recall  f1-score   support\n",
      "\n",
      "           0       1.00      1.00      1.00        11\n",
      "           1       0.72      1.00      0.84        13\n",
      "           2       1.00      0.17      0.29         6\n",
      "\n",
      "    accuracy                           0.83        30\n",
      "   macro avg       0.91      0.72      0.71        30\n",
      "weighted avg       0.88      0.83      0.79        30\n",
      "\n"
     ]
    },
    {
     "data": {
      "image/png": "[encoded data removed]",
      "text/plain": [
       "<Figure size 432x288 with 1 Axes>"
      ]
     },
     "metadata": {
      "needs_background": "light"
     },
     "output_type": "display_data"
    },
    {
     "name": "stdout",
     "output_type": "stream",
     "text": [
      "Activation Func: relu, Number of Neurons: 10, Number of hidden layers: 2\n",
      "              precision    recall  f1-score   support\n",
      "\n",
      "           0       1.00      1.00      1.00        11\n",
      "           1       0.67      0.92      0.77        13\n",
      "           2       0.00      0.00      0.00         6\n",
      "\n",
      "    accuracy                           0.77        30\n",
      "   macro avg       0.56      0.64      0.59        30\n",
      "weighted avg       0.66      0.77      0.70        30\n",
      "\n"
     ]
    },
    {
     "data": {
      "image/png": "[encoded data removed]",
      "text/plain": [
       "<Figure size 432x288 with 1 Axes>"
      ]
     },
     "metadata": {
      "needs_background": "light"
     },
     "output_type": "display_data"
    },
    {
     "name": "stdout",
     "output_type": "stream",
     "text": [
      "Activation Func: relu, Number of Neurons: 10, Number of hidden layers: 3\n",
      "              precision    recall  f1-score   support\n",
      "\n",
      "           0       1.00      1.00      1.00        11\n",
      "           1       1.00      0.38      0.56        13\n",
      "           2       0.43      1.00      0.60         6\n",
      "\n",
      "    accuracy                           0.73        30\n",
      "   macro avg       0.81      0.79      0.72        30\n",
      "weighted avg       0.89      0.73      0.73        30\n",
      "\n"
     ]
    },
    {
     "data": {
      "image/png": "[encoded data removed]",
      "text/plain": [
       "<Figure size 432x288 with 1 Axes>"
      ]
     },
     "metadata": {
      "needs_background": "light"
     },
     "output_type": "display_data"
    },
    {
     "name": "stdout",
     "output_type": "stream",
     "text": [
      "Activation Func: relu, Number of Neurons: 20, Number of hidden layers: 1\n",
      "              precision    recall  f1-score   support\n",
      "\n",
      "           0       1.00      1.00      1.00        11\n",
      "           1       0.00      0.00      0.00        13\n",
      "           2       0.32      1.00      0.48         6\n",
      "\n",
      "    accuracy                           0.57        30\n",
      "   macro avg       0.44      0.67      0.49        30\n",
      "weighted avg       0.43      0.57      0.46        30\n",
      "\n"
     ]
    },
    {
     "data": {
      "image/png": "[encoded data removed]",
      "text/plain": [
       "<Figure size 432x288 with 1 Axes>"
      ]
     },
     "metadata": {
      "needs_background": "light"
     },
     "output_type": "display_data"
    },
    {
     "name": "stdout",
     "output_type": "stream",
     "text": [
      "Activation Func: relu, Number of Neurons: 20, Number of hidden layers: 2\n",
      "              precision    recall  f1-score   support\n",
      "\n",
      "           0       1.00      0.91      0.95        11\n",
      "           1       0.65      1.00      0.79        13\n",
      "           2       0.00      0.00      0.00         6\n",
      "\n",
      "    accuracy                           0.77        30\n",
      "   macro avg       0.55      0.64      0.58        30\n",
      "weighted avg       0.65      0.77      0.69        30\n",
      "\n"
     ]
    },
    {
     "data": {
      "image/png": "[encoded data removed]",
      "text/plain": [
       "<Figure size 432x288 with 1 Axes>"
      ]
     },
     "metadata": {
      "needs_background": "light"
     },
     "output_type": "display_data"
    },
    {
     "name": "stdout",
     "output_type": "stream",
     "text": [
      "Activation Func: relu, Number of Neurons: 20, Number of hidden layers: 3\n",
      "              precision    recall  f1-score   support\n",
      "\n",
      "           0       1.00      0.73      0.84        11\n",
      "           1       0.00      0.00      0.00        13\n",
      "           2       0.27      1.00      0.43         6\n",
      "\n",
      "    accuracy                           0.47        30\n",
      "   macro avg       0.42      0.58      0.42        30\n",
      "weighted avg       0.42      0.47      0.39        30\n",
      "\n"
     ]
    },
    {
     "data": {
      "image/png": "[encoded data removed]",
      "text/plain": [
       "<Figure size 432x288 with 1 Axes>"
      ]
     },
     "metadata": {
      "needs_background": "light"
     },
     "output_type": "display_data"
    },
    {
     "name": "stdout",
     "output_type": "stream",
     "text": [
      "Activation Func: tanh, Number of Neurons: 5, Number of hidden layers: 1\n",
      "              precision    recall  f1-score   support\n",
      "\n",
      "           0       1.00      1.00      1.00        11\n",
      "           1       0.00      0.00      0.00        13\n",
      "           2       0.32      1.00      0.48         6\n",
      "\n",
      "    accuracy                           0.57        30\n",
      "   macro avg       0.44      0.67      0.49        30\n",
      "weighted avg       0.43      0.57      0.46        30\n",
      "\n"
     ]
    },
    {
     "data": {
      "image/png": "[encoded data removed]",
      "text/plain": [
       "<Figure size 432x288 with 1 Axes>"
      ]
     },
     "metadata": {
      "needs_background": "light"
     },
     "output_type": "display_data"
    },
    {
     "name": "stdout",
     "output_type": "stream",
     "text": [
      "Activation Func: tanh, Number of Neurons: 5, Number of hidden layers: 2\n",
      "              precision    recall  f1-score   support\n",
      "\n",
      "           0       1.00      0.91      0.95        11\n",
      "           1       0.00      0.00      0.00        13\n",
      "           2       0.30      1.00      0.46         6\n",
      "\n",
      "    accuracy                           0.53        30\n",
      "   macro avg       0.43      0.64      0.47        30\n",
      "weighted avg       0.43      0.53      0.44        30\n",
      "\n"
     ]
    },
    {
     "data": {
      "image/png": "[encoded data removed]",
      "text/plain": [
       "<Figure size 432x288 with 1 Axes>"
      ]
     },
     "metadata": {
      "needs_background": "light"
     },
     "output_type": "display_data"
    },
    {
     "name": "stdout",
     "output_type": "stream",
     "text": [
      "Activation Func: tanh, Number of Neurons: 5, Number of hidden layers: 3\n",
      "              precision    recall  f1-score   support\n",
      "\n",
      "           0       1.00      1.00      1.00        11\n",
      "           1       0.68      1.00      0.81        13\n",
      "           2       0.00      0.00      0.00         6\n",
      "\n",
      "    accuracy                           0.80        30\n",
      "   macro avg       0.56      0.67      0.60        30\n",
      "weighted avg       0.66      0.80      0.72        30\n",
      "\n"
     ]
    },
    {
     "data": {
      "image/png": "[encoded data removed]",
      "text/plain": [
       "<Figure size 432x288 with 1 Axes>"
      ]
     },
     "metadata": {
      "needs_background": "light"
     },
     "output_type": "display_data"
    },
    {
     "name": "stdout",
     "output_type": "stream",
     "text": [
      "Activation Func: tanh, Number of Neurons: 10, Number of hidden layers: 1\n",
      "              precision    recall  f1-score   support\n",
      "\n",
      "           0       1.00      1.00      1.00        11\n",
      "           1       0.00      0.00      0.00        13\n",
      "           2       0.32      1.00      0.48         6\n",
      "\n",
      "    accuracy                           0.57        30\n",
      "   macro avg       0.44      0.67      0.49        30\n",
      "weighted avg       0.43      0.57      0.46        30\n",
      "\n"
     ]
    },
    {
     "data": {
      "image/png": "[encoded data removed]",
      "text/plain": [
       "<Figure size 432x288 with 1 Axes>"
      ]
     },
     "metadata": {
      "needs_background": "light"
     },
     "output_type": "display_data"
    },
    {
     "name": "stdout",
     "output_type": "stream",
     "text": [
      "Activation Func: tanh, Number of Neurons: 10, Number of hidden layers: 2\n",
      "              precision    recall  f1-score   support\n",
      "\n",
      "           0       1.00      1.00      1.00        11\n",
      "           1       0.00      0.00      0.00        13\n",
      "           2       0.32      1.00      0.48         6\n",
      "\n",
      "    accuracy                           0.57        30\n",
      "   macro avg       0.44      0.67      0.49        30\n",
      "weighted avg       0.43      0.57      0.46        30\n",
      "\n"
     ]
    },
    {
     "data": {
      "image/png": "[encoded data removed]",
      "text/plain": [
       "<Figure size 432x288 with 1 Axes>"
      ]
     },
     "metadata": {
      "needs_background": "light"
     },
     "output_type": "display_data"
    },
    {
     "name": "stdout",
     "output_type": "stream",
     "text": [
      "Activation Func: tanh, Number of Neurons: 10, Number of hidden layers: 3\n",
      "              precision    recall  f1-score   support\n",
      "\n",
      "           0       1.00      1.00      1.00        11\n",
      "           1       0.68      1.00      0.81        13\n",
      "           2       0.00      0.00      0.00         6\n",
      "\n",
      "    accuracy                           0.80        30\n",
      "   macro avg       0.56      0.67      0.60        30\n",
      "weighted avg       0.66      0.80      0.72        30\n",
      "\n"
     ]
    },
    {
     "data": {
      "image/png": "[encoded data removed]",
      "text/plain": [
       "<Figure size 432x288 with 1 Axes>"
      ]
     },
     "metadata": {
      "needs_background": "light"
     },
     "output_type": "display_data"
    },
    {
     "name": "stdout",
     "output_type": "stream",
     "text": [
      "Activation Func: tanh, Number of Neurons: 20, Number of hidden layers: 1\n",
      "              precision    recall  f1-score   support\n",
      "\n",
      "           0       0.44      1.00      0.61        11\n",
      "           1       0.00      0.00      0.00        13\n",
      "           2       1.00      0.83      0.91         6\n",
      "\n",
      "    accuracy                           0.53        30\n",
      "   macro avg       0.48      0.61      0.51        30\n",
      "weighted avg       0.36      0.53      0.41        30\n",
      "\n"
     ]
    },
    {
     "data": {
      "image/png": "[encoded data removed]",
      "text/plain": [
       "<Figure size 432x288 with 1 Axes>"
      ]
     },
     "metadata": {
      "needs_background": "light"
     },
     "output_type": "display_data"
    },
    {
     "name": "stdout",
     "output_type": "stream",
     "text": [
      "Activation Func: tanh, Number of Neurons: 20, Number of hidden layers: 2\n",
      "              precision    recall  f1-score   support\n",
      "\n",
      "           0       1.00      1.00      1.00        11\n",
      "           1       0.00      0.00      0.00        13\n",
      "           2       0.32      1.00      0.48         6\n",
      "\n",
      "    accuracy                           0.57        30\n",
      "   macro avg       0.44      0.67      0.49        30\n",
      "weighted avg       0.43      0.57      0.46        30\n",
      "\n"
     ]
    },
    {
     "data": {
      "image/png": "[encoded data removed]",
      "text/plain": [
       "<Figure size 432x288 with 1 Axes>"
      ]
     },
     "metadata": {
      "needs_background": "light"
     },
     "output_type": "display_data"
    },
    {
     "name": "stdout",
     "output_type": "stream",
     "text": [
      "Activation Func: tanh, Number of Neurons: 20, Number of hidden layers: 3\n",
      "              precision    recall  f1-score   support\n",
      "\n",
      "           0       0.00      0.00      0.00        11\n",
      "           1       0.68      1.00      0.81        13\n",
      "           2       0.00      0.00      0.00         6\n",
      "\n",
      "    accuracy                           0.43        30\n",
      "   macro avg       0.23      0.33      0.27        30\n",
      "weighted avg       0.30      0.43      0.35        30\n",
      "\n"
     ]
    },
    {
     "data": {
      "image/png": "[encoded data removed]",
      "text/plain": [
       "<Figure size 432x288 with 1 Axes>"
      ]
     },
     "metadata": {
      "needs_background": "light"
     },
     "output_type": "display_data"
    }
   ],
   "source": [
    "# Training\n",
    "\n",
    "from sklearn.neural_network import MLPClassifier\n",
    "from sklearn import metrics\n",
    "from sklearn.metrics import confusion_matrix\n",
    "import seaborn as sns\n",
    "import matplotlib.pyplot as plt\n",
    "\n",
    "for activation in activations:\n",
    "    for num_neuron in neurons:\n",
    "        for hidden_layers in num_hidden:\n",
    "            mlp = MLPClassifier(max_iter=epochs, learning_rate_init=0.05, activation=activation, hidden_layer_sizes=[num_neuron]*hidden_layers)\n",
    "            mlp.fit(X_train_std, y_train)\n",
    "            print(f\"Activation Func: {mlp.activation}, Number of Neurons: {num_neuron}, Number of hidden layers: {hidden_layers}\")\n",
    "            \n",
    "            y_predicted = mlp.predict(X_test_std)\n",
    "            print(metrics.classification_report(y_test, y_predicted))\n",
    "            mat = confusion_matrix(y_test, y_predicted)\n",
    "            plt.figure()\n",
    "            sns.heatmap(mat.T, square = True, annot = True, fmt = 'd', cbar = False)\n",
    "            plt.xlabel(\"True Label\")\n",
    "            plt.ylabel(\"Predicted Label\")\n",
    "            plt.show()"
   ]
  },
  {
   "cell_type": "code",
   "execution_count": null,
   "id": "09212b36",
   "metadata": {},
   "outputs": [],
   "source": []
  }
 ],
 "metadata": {
  "kernelspec": {
   "display_name": "Python 3 (ipykernel)",
   "language": "python",
   "name": "python3"
  },
  "language_info": {
   "codemirror_mode": {
    "name": "ipython",
    "version": 3
   },
   "file_extension": ".py",
   "mimetype": "text/x-python",
   "name": "python",
   "nbconvert_exporter": "python",
   "pygments_lexer": "ipython3",
   "version": "3.9.7"
  }
 },
 "nbformat": 4,
 "nbformat_minor": 5
}
